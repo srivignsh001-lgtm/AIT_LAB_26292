{
  "nbformat": 4,
  "nbformat_minor": 0,
  "metadata": {
    "colab": {
      "provenance": [],
      "authorship_tag": "ABX9TyNSIOkKQ7CSkx/+nA3tGYCD",
      "include_colab_link": true
    },
    "kernelspec": {
      "name": "python3",
      "display_name": "Python 3"
    },
    "language_info": {
      "name": "python"
    }
  },
  "cells": [
    {
      "cell_type": "markdown",
      "metadata": {
        "id": "view-in-github",
        "colab_type": "text"
      },
      "source": [
        "<a href=\"https://colab.research.google.com/github/srivignsh001-lgtm/AIT_LAB_26292/blob/main/AIT_LAB_26292.ipynb\" target=\"_parent\"><img src=\"https://colab.research.google.com/assets/colab-badge.svg\" alt=\"Open In Colab\"/></a>"
      ]
    },
    {
      "cell_type": "code",
      "execution_count": 1,
      "metadata": {
        "colab": {
          "base_uri": "https://localhost:8080/"
        },
        "id": "p8KOntmqDR_4",
        "outputId": "d04ed769-3452-4bde-ced9-860ec7e2891c"
      },
      "outputs": [
        {
          "output_type": "stream",
          "name": "stdout",
          "text": [
            "Valid configurations for placing 4 guards:\n",
            "\n",
            ". G . .\n",
            ". . . G\n",
            "G . . .\n",
            ". . G .\n",
            "\n",
            ". . G .\n",
            "G . . .\n",
            ". . . G\n",
            ". G . .\n",
            "\n"
          ]
        },
        {
          "output_type": "execute_result",
          "data": {
            "text/plain": [
              "True"
            ]
          },
          "metadata": {},
          "execution_count": 1
        }
      ],
      "source": [
        "N = 4 # Size of the grid\n",
        "# Function to print the board\n",
        "def print_board(board):\n",
        "    for row in board:\n",
        "        print(\" \".join('G' if col else '.' for col in row))\n",
        "    print()\n",
        "\n",
        "# Check if it's safe to place a guard at board[row][col]\n",
        "def is_safe(board, row, col):\n",
        "    # Check vertical up\n",
        "    for i in range(row):\n",
        "        if board[i][col] == 1:\n",
        "            return False\n",
        "    # Check upper left diagonal\n",
        "    i, j = row - 1, col - 1\n",
        "    while i >= 0 and j >= 0:\n",
        "        if board[i][j] == 1:\n",
        "            return False\n",
        "        i -= 1\n",
        "        j -= 1\n",
        "    # Check upper right diagonal\n",
        "    i, j = row - 1, col + 1\n",
        "    while i >= 0 and j < N:\n",
        "        if board[i][j] == 1:\n",
        "            return False\n",
        "        i -= 1\n",
        "        j += 1\n",
        "    return True\n",
        "\n",
        "# Backtracking function\n",
        "def solve_n_queens(board, row):\n",
        "    if row == N:\n",
        "        print_board(board)\n",
        "        return True\n",
        "    res = False\n",
        "    for col in range(N):\n",
        "        if is_safe(board, row, col):\n",
        "            board[row][col] = 1\n",
        "            res = solve_n_queens(board, row + 1) or res\n",
        "            board[row][col] = 0  # Backtrack\n",
        "    return res\n",
        "\n",
        "# Initialize the board\n",
        "board = [[0 for _ in range(N)] for _ in range(N)]\n",
        "print(\"Valid configurations for placing 4 guards:\\n\")\n",
        "solve_n_queens(board, 0)\n"
      ]
    },
    {
      "cell_type": "markdown",
      "source": [
        "task8"
      ],
      "metadata": {
        "id": "GBiH4fzoJ1us"
      }
    },
    {
      "cell_type": "code",
      "source": [
        "# Grid coordinates: (x, y)\n",
        "toy_position = (2, 2)        # Toy is placed at center ceiling\n",
        "box_position = [0, 0]        # Initial box position\n",
        "puppy_position = [0, 1]      # Puppy starts in corner\n",
        "has_toy = False\n",
        "on_box = False\n",
        "\n",
        "# Action log\n",
        "actions = []\n",
        "\n",
        "# Define room size (optional for visualization)\n",
        "room_size = 3  # 3x3 grid\n",
        "\n",
        "\n",
        "# ---------- Helper functions ---------- #\n",
        "def walk(to):\n",
        "    \"\"\"Move the puppy to a location.\"\"\"\n",
        "    global puppy_position\n",
        "    actions.append(f\"Walk from {tuple(puppy_position)} to {to}\")\n",
        "    puppy_position[0], puppy_position[1] = to\n",
        "\n",
        "\n",
        "def push_box(to):\n",
        "    \"\"\"Push the box to a location (puppy moves with box).\"\"\"\n",
        "    global puppy_position, box_position\n",
        "    actions.append(f\"Push box from {tuple(box_position)} to {to}\")\n",
        "    box_position[0], box_position[1] = to\n",
        "    puppy_position[0], puppy_position[1] = to\n",
        "\n",
        "\n",
        "def climb_box():\n",
        "    \"\"\"Puppy climbs onto the box.\"\"\"\n",
        "    global on_box\n",
        "    actions.append(\"Climb on box\")\n",
        "    on_box = True\n",
        "\n",
        "\n",
        "def grab_toy():\n",
        "    \"\"\"Puppy grabs the toy.\"\"\"\n",
        "    global has_toy\n",
        "    actions.append(\"Grab the toy\")\n",
        "    has_toy = True\n",
        "\n",
        "\n",
        "# ---------- Goal Stack Planning ---------- #\n",
        "stack = ['HasToy']\n",
        "\n",
        "while stack:\n",
        "    goal = stack.pop()\n",
        "\n",
        "    if goal == 'HasToy':\n",
        "        if has_toy:\n",
        "            continue\n",
        "        if puppy_position == box_position == list(toy_position) and on_box:\n",
        "            grab_toy()\n",
        "        else:\n",
        "            stack.append('HasToy')                      # retry after subgoals\n",
        "            stack.append('OnBox')\n",
        "            stack.append(('MoveBoxUnderToy', toy_position))\n",
        "\n",
        "    elif goal == 'OnBox':\n",
        "        if on_box:\n",
        "            continue\n",
        "        if puppy_position == box_position:\n",
        "            climb_box()\n",
        "        else:\n",
        "            stack.append('OnBox')\n",
        "            stack.append(('WalkTo', tuple(box_position)))\n",
        "\n",
        "    elif isinstance(goal, tuple) and goal[0] == 'MoveBoxUnderToy':\n",
        "        target = goal[1]\n",
        "        if box_position == list(target):\n",
        "            continue\n",
        "        stack.append(('MoveBoxUnderToy', target))\n",
        "        stack.append(('WalkTo', tuple(box_position)))\n",
        "        stack.append(('PushBoxTo', target))\n",
        "\n",
        "    elif isinstance(goal, tuple) and goal[0] == 'WalkTo':\n",
        "        target = goal[1]\n",
        "        if puppy_position == list(target):\n",
        "            continue\n",
        "        walk(target)\n",
        "\n",
        "    elif isinstance(goal, tuple) and goal[0] == 'PushBoxTo':\n",
        "        target = goal[1]\n",
        "        if box_position == list(target):\n",
        "            continue\n",
        "        push_box(target)\n",
        "\n",
        "\n",
        "# ---------- Display the steps ---------- #\n",
        "print(\"Plan to achieve goal:\")\n",
        "for step in actions:\n",
        "    print(\"-\", step)\n",
        "\n",
        "# ---------- Final state ---------- #\n",
        "print(\"\\nFinal State:\")\n",
        "print(\"Puppy Position:\", tuple(puppy_position))\n",
        "print(\"Box Position:\", tuple(box_position))\n",
        "print(\"On Box:\", on_box)\n",
        "print(\"Has Toy:\", has_toy)\n",
        "\n"
      ],
      "metadata": {
        "colab": {
          "base_uri": "https://localhost:8080/"
        },
        "id": "WV5T0OaDJ-aA",
        "outputId": "b937857f-165e-4acd-ec61-f66683a35ed9"
      },
      "execution_count": 2,
      "outputs": [
        {
          "output_type": "stream",
          "name": "stdout",
          "text": [
            "Plan to achieve goal:\n",
            "- Push box from (0, 0) to (2, 2)\n",
            "- Walk from (2, 2) to (0, 0)\n",
            "- Walk from (0, 0) to (2, 2)\n",
            "- Climb on box\n",
            "- Grab the toy\n",
            "\n",
            "Final State:\n",
            "Puppy Position: (2, 2)\n",
            "Box Position: (2, 2)\n",
            "On Box: True\n",
            "Has Toy: True\n"
          ]
        }
      ]
    },
    {
      "cell_type": "markdown",
      "source": [
        "task7.2\n"
      ],
      "metadata": {
        "id": "QW8W0JOyKE4o"
      }
    },
    {
      "cell_type": "code",
      "source": [
        "state = {\n",
        "    'monkey_location': 'door',\n",
        "    'box_location': 'window',\n",
        "    'monkey_on_box': False,\n",
        "    'monkey_has_banana': False\n",
        "}\n",
        "goal_stack = ['has(monkey, banana)']\n",
        "actions = []\n",
        "def walk(x, y):\n",
        "    state['monkey_location'] = y\n",
        "    actions.append(f\"Walk from {x} to {y}\")\n",
        "def push(x, y):\n",
        "    state['monkey_location'] = y\n",
        "    state['box_location'] = y\n",
        "    actions.append(f\"Push box from {x} to {y}\")\n",
        "def climb_up():\n",
        "    state['monkey_on_box'] = True\n",
        "    actions.append(\"Climb up the box\")\n",
        "def grasp():\n",
        "    state['monkey_has_banana'] = True\n",
        "    actions.append(\"Grasp the banana\")\n",
        "while goal_stack:\n",
        "    goal = goal_stack.pop()\n",
        "    if goal == 'has(monkey, banana)':\n",
        "        if not state['monkey_has_banana']:\n",
        "            goal_stack.append('perform(grasp)')\n",
        "            goal_stack.append('at(monkey, middle)')\n",
        "            goal_stack.append('on(monkey, box)')\n",
        "            if goal == 'perform(grasp)':\n",
        "                if state['monkey_location'] == 'middle' and state['monkey_on_box']:\n",
        "                    grasp()\n",
        "            elif goal == 'on(monkey, box)':\n",
        "                if state['monkey_location'] != state['box_location']:\n",
        "                    goal_stack.append('perform(climb_up)')\n",
        "                else:\n",
        "                    climb_up()\n",
        "            elif goal == 'at(monkey, middle)':\n",
        "                if goal.startswith('at(monkey,'):\n",
        "                    target = goal.split(',')[1].strip(' )')\n",
        "                    if state['monkey_location'] != target:\n",
        "                        if state['monkey_location'] == state['box_location']:\n",
        "                            push(state['box_location'], target)\n",
        "                        else:\n",
        "                            walk(state['monkey_location'], target)\n",
        "                else:\n",
        "                    walk(state['monkey_location'], target)\n",
        "\n",
        "print(\"Monkey-Banana Planning Actions:\")\n",
        "for step in actions:\n",
        "    print(\" -\", step)\n",
        "print(\"Final State:\")\n",
        "for key, value in state.items():\n",
        "    print(f\"{key}: {value}\")\n"
      ],
      "metadata": {
        "colab": {
          "base_uri": "https://localhost:8080/"
        },
        "id": "qvRlNIMtKHo4",
        "outputId": "a5449068-0fcd-44ec-dc0c-6a911fd95216"
      },
      "execution_count": 3,
      "outputs": [
        {
          "output_type": "stream",
          "name": "stdout",
          "text": [
            "Monkey-Banana Planning Actions:\n",
            "Final State:\n",
            "monkey_location: door\n",
            "box_location: window\n",
            "monkey_on_box: False\n",
            "monkey_has_banana: False\n"
          ]
        }
      ]
    },
    {
      "cell_type": "markdown",
      "source": [
        "task 7.1\n"
      ],
      "metadata": {
        "id": "RtMWa-AkQuM1"
      }
    }
  ]
}